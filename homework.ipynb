{
 "cells": [
  {
   "cell_type": "code",
   "execution_count": 27,
   "metadata": {},
   "outputs": [
    {
     "name": "stdout",
     "output_type": "stream",
     "text": [
      "Requirement already satisfied: hfst_dev in /home/rinardskorsaks/.local/lib/python3.8/site-packages (3.15.0.10b0)\n",
      "Note: you may need to restart the kernel to use updated packages.\n"
     ]
    }
   ],
   "source": [
    "%pip install hfst_dev"
   ]
  },
  {
   "cell_type": "code",
   "execution_count": 28,
   "metadata": {},
   "outputs": [],
   "source": [
    "from hfst_dev import compile_lexc_file, regex, compose\n",
    "\n",
    "lexicon = compile_lexc_file('latvian.lexc')"
   ]
  },
  {
   "cell_type": "markdown",
   "metadata": {},
   "source": [
    "### Nouns"
   ]
  },
  {
   "cell_type": "markdown",
   "metadata": {},
   "source": [
    "Noun cases with declinations and consonant gradation."
   ]
  },
  {
   "cell_type": "code",
   "execution_count": 29,
   "metadata": {},
   "outputs": [
    {
     "name": "stdout",
     "output_type": "stream",
     "text": [
      "zēns+N+Sg+Nom - zēns\n",
      "zēns+N+Sg+Gen - zēna\n",
      "zēns+N+Sg+Dat - zēnam\n",
      "zēns+N+Sg+Acc - zēnu\n",
      "zēns+N+Sg+Loc - zēnā\n",
      "zēns+N+Pl+Nom - zēni\n",
      "zēns+N+Pl+Gen - zēnu\n",
      "zēns+N+Pl+Dat - zēniem\n",
      "zēns+N+Pl+Acc - zēnus\n",
      "zēns+N+Pl+Loc - zēnos\n",
      "suns+N+Sg+Nom - suns\n",
      "suns+N+Sg+Gen - suns\n",
      "suns+N+Sg+Dat - sunim\n",
      "suns+N+Sg+Acc - suni\n",
      "suns+N+Sg+Loc - sunī\n",
      "suns+N+Pl+Nom - suņi\n",
      "suns+N+Pl+Gen - suņu\n",
      "suns+N+Pl+Dat - suņiem\n",
      "suns+N+Pl+Acc - suņus\n",
      "suns+N+Pl+Loc - suņos\n",
      "brālis+N+Sg+Nom - brālis\n",
      "brālis+N+Sg+Gen - brāļa\n",
      "brālis+N+Sg+Dat - brālim\n",
      "brālis+N+Sg+Acc - brāli\n",
      "brālis+N+Sg+Loc - brālī\n",
      "brālis+N+Pl+Nom - brāļi\n",
      "brālis+N+Pl+Gen - brāļu\n",
      "brālis+N+Pl+Dat - brāļiem\n",
      "brālis+N+Pl+Acc - brāļus\n",
      "brālis+N+Pl+Loc - brāļos\n",
      "medus+N+Sg+Nom - medus\n",
      "medus+N+Sg+Gen - medus\n",
      "medus+N+Sg+Dat - medum\n",
      "medus+N+Sg+Acc - medu\n",
      "medus+N+Sg+Loc - medū\n",
      "medus+N+Pl+Nom - medi\n",
      "medus+N+Pl+Gen - medu\n",
      "medus+N+Pl+Dat - mediem\n",
      "medus+N+Pl+Acc - medus\n",
      "medus+N+Pl+Loc - medos\n",
      "grāmata+N+Sg+Nom - grāmata\n",
      "grāmata+N+Sg+Gen - grāmatas\n",
      "grāmata+N+Sg+Dat - grāmatai\n",
      "grāmata+N+Sg+Acc - grāmatu\n",
      "grāmata+N+Sg+Loc - grāmatā\n",
      "grāmata+N+Pl+Nom - grāmatas\n",
      "grāmata+N+Pl+Gen - grāmatu\n",
      "grāmata+N+Pl+Dat - grāmatām\n",
      "grāmata+N+Pl+Acc - grāmatas\n",
      "grāmata+N+Pl+Loc - grāmatām\n",
      "saule+N+Sg+Nom - saule\n",
      "saule+N+Sg+Gen - saules\n",
      "saule+N+Sg+Dat - saulei\n",
      "saule+N+Sg+Acc - sauli\n",
      "saule+N+Sg+Loc - saulē\n",
      "saule+N+Pl+Nom - saules\n",
      "saule+N+Pl+Gen - sauļu\n",
      "saule+N+Pl+Dat - saulem\n",
      "saule+N+Pl+Acc - saules\n",
      "saule+N+Pl+Loc - saulēs\n",
      "nakts+N+Sg+Nom - nakts\n",
      "nakts+N+Sg+Gen - nakts\n",
      "nakts+N+Sg+Dat - naktij\n",
      "nakts+N+Sg+Acc - nakti\n",
      "nakts+N+Sg+Loc - naktī\n",
      "nakts+N+Pl+Nom - naktis\n",
      "nakts+N+Pl+Gen - nakšu\n",
      "nakts+N+Pl+Dat - naktīm\n",
      "nakts+N+Pl+Acc - naktis\n",
      "nakts+N+Pl+Loc - naktīs\n"
     ]
    }
   ],
   "source": [
    "# līdzskaņu mija\n",
    "ConsonantGradationObj = {\n",
    "    \"s\": \"š\",\n",
    "    \"t\": \"š\",\n",
    "    \"z\": \"ž\",\n",
    "    \"d\": \"ž\",\n",
    "    \"c\": \"č\",\n",
    "    \"dz\": \"dž\",\n",
    "    \"l\": \"ļ\",\n",
    "    \"n\": \"ņ\",\n",
    "    \"p\": \"pj\",\n",
    "    \"b\": \"bj\",\n",
    "    \"m\": \"mj\",\n",
    "    \"v\": \"vj\"\n",
    "}\n",
    "# create a string for the regex\n",
    "# example '[n -> ņ || _ \"*\"] .o. [n -> ņ || _ \"*\"] .o. [l -> ļ || _ \"*\"]'\n",
    "ConsonantGradationStr = \"\"\n",
    "for key, value in ConsonantGradationObj.items():\n",
    "    ConsonantGradationStr += \"[\" + key + \"->\" + value + \"|| _\\\"*\\\"]\"\n",
    "    ConsonantGradationStr += \" .o. \"\n",
    "ConsonantGradationStr = ConsonantGradationStr[:-5]\n",
    "ConsonantGradation = regex(ConsonantGradationStr) # substitution\n",
    "CleanUp = regex('%* -> 0') # deletion\n",
    "cascade = compose((lexicon, ConsonantGradation, CleanUp))\n",
    "\n",
    "for noun in [\"zēns\", \"suns\", \"brālis\", \"medus\", \"grāmata\", \"saule\", \"nakts\"]:\n",
    "    for number in [\"Sg\", \"Pl\"]:\n",
    "        for form in [\"Nom\", \"Gen\", \"Dat\", \"Acc\", \"Loc\"]:\n",
    "            print(noun + \"+N+\" + number + \"+\" + form + \" - \" + cascade.lookup(noun + \"+N+\" + number + \"+\" + form)[0][0])"
   ]
  },
  {
   "cell_type": "markdown",
   "metadata": {},
   "source": [
    "### Adjectives"
   ]
  },
  {
   "cell_type": "markdown",
   "metadata": {},
   "source": [
    "Adjective cases with comparative and superlative.\n",
    "Formally in Latvian superlative prepends 'vis' but I could not figure out how to implement this."
   ]
  },
  {
   "cell_type": "code",
   "execution_count": 30,
   "metadata": {},
   "outputs": [
    {
     "name": "stdout",
     "output_type": "stream",
     "text": [
      "jauns+Adj+Sg+Nom - jauns\n",
      "jauns+Adj+Sg+Gen - jaunā\n",
      "jauns+Adj+Sg+Dat - jaunajam\n",
      "jauns+Adj+Sg+Acc - jauno\n",
      "jauns+Adj+Sg+Loc - jaunajā\n",
      "jauns+Adj+Pl+Nom - jauni\n",
      "jauns+Adj+Pl+Gen - jauno\n",
      "jauns+Adj+Pl+Dat - jaunajiem\n",
      "jauns+Adj+Pl+Acc - jaunos\n",
      "jauns+Adj+Pl+Loc - jaunajos\n",
      "jauns+Adj+Comp+Sg+Nom - jaunāks\n",
      "jauns+Adj+Comp+Sg+Gen - jaunākā\n",
      "jauns+Adj+Comp+Sg+Dat - jaunākajam\n",
      "jauns+Adj+Comp+Sg+Acc - jaunāko\n",
      "jauns+Adj+Comp+Sg+Loc - jaunākajā\n",
      "jauns+Adj+Comp+Pl+Nom - jaunāki\n",
      "jauns+Adj+Comp+Pl+Gen - jaunāko\n",
      "jauns+Adj+Comp+Pl+Dat - jaunākajiem\n",
      "jauns+Adj+Comp+Pl+Acc - jaunākos\n",
      "jauns+Adj+Comp+Pl+Loc - jaunākajos\n",
      "jauns+Adj+Sup+Sg+Nom - jaunākais\n",
      "jauns+Adj+Sup+Sg+Gen - jaunākā\n",
      "jauns+Adj+Sup+Sg+Dat - jaunākajam\n",
      "jauns+Adj+Sup+Sg+Acc - jaunāko\n",
      "jauns+Adj+Sup+Sg+Loc - jaunākajā\n",
      "jauns+Adj+Sup+Pl+Nom - jaunākie\n",
      "jauns+Adj+Sup+Pl+Gen - jaunāko\n",
      "jauns+Adj+Sup+Pl+Dat - jaunākajiem\n",
      "jauns+Adj+Sup+Pl+Acc - jaunākos\n",
      "jauns+Adj+Sup+Pl+Loc - jaunākajos\n",
      "zaļš+Adj+Sg+Nom - zaļš\n",
      "zaļš+Adj+Sg+Gen - zaļā\n",
      "zaļš+Adj+Sg+Dat - zaļajam\n",
      "zaļš+Adj+Sg+Acc - zaļo\n",
      "zaļš+Adj+Sg+Loc - zaļajā\n",
      "zaļš+Adj+Pl+Nom - zaļi\n",
      "zaļš+Adj+Pl+Gen - zaļo\n",
      "zaļš+Adj+Pl+Dat - zaļajiem\n",
      "zaļš+Adj+Pl+Acc - zaļos\n",
      "zaļš+Adj+Pl+Loc - zaļajos\n",
      "zaļš+Adj+Comp+Sg+Nom - zaļāks\n",
      "zaļš+Adj+Comp+Sg+Gen - zaļākā\n",
      "zaļš+Adj+Comp+Sg+Dat - zaļākajam\n",
      "zaļš+Adj+Comp+Sg+Acc - zaļāko\n",
      "zaļš+Adj+Comp+Sg+Loc - zaļākajā\n",
      "zaļš+Adj+Comp+Pl+Nom - zaļāki\n",
      "zaļš+Adj+Comp+Pl+Gen - zaļāko\n",
      "zaļš+Adj+Comp+Pl+Dat - zaļākajiem\n",
      "zaļš+Adj+Comp+Pl+Acc - zaļākos\n",
      "zaļš+Adj+Comp+Pl+Loc - zaļākajos\n",
      "zaļš+Adj+Sup+Sg+Nom - zaļākais\n",
      "zaļš+Adj+Sup+Sg+Gen - zaļākā\n",
      "zaļš+Adj+Sup+Sg+Dat - zaļākajam\n",
      "zaļš+Adj+Sup+Sg+Acc - zaļāko\n",
      "zaļš+Adj+Sup+Sg+Loc - zaļākajā\n",
      "zaļš+Adj+Sup+Pl+Nom - zaļākie\n",
      "zaļš+Adj+Sup+Pl+Gen - zaļāko\n",
      "zaļš+Adj+Sup+Pl+Dat - zaļākajiem\n",
      "zaļš+Adj+Sup+Pl+Acc - zaļākos\n",
      "zaļš+Adj+Sup+Pl+Loc - zaļākajos\n",
      "skaista+Adj+Sg+Nom - skaista\n",
      "skaista+Adj+Sg+Gen - skaistas\n",
      "skaista+Adj+Sg+Dat - skaistai\n",
      "skaista+Adj+Sg+Acc - skaistu\n",
      "skaista+Adj+Sg+Loc - skaistā\n",
      "skaista+Adj+Pl+Nom - skaistas\n",
      "skaista+Adj+Pl+Gen - skaistu\n",
      "skaista+Adj+Pl+Dat - skaistām\n",
      "skaista+Adj+Pl+Acc - skaistas\n",
      "skaista+Adj+Pl+Loc - skaistās\n",
      "skaista+Adj+Comp+Sg+Nom - skaistāka\n",
      "skaista+Adj+Comp+Sg+Gen - skaistākas\n",
      "skaista+Adj+Comp+Sg+Dat - skaistākai\n",
      "skaista+Adj+Comp+Sg+Acc - skaistāku\n",
      "skaista+Adj+Comp+Sg+Loc - skaistākā\n",
      "skaista+Adj+Comp+Pl+Nom - skaistākas\n",
      "skaista+Adj+Comp+Pl+Gen - skaistāku\n",
      "skaista+Adj+Comp+Pl+Dat - skaistākām\n",
      "skaista+Adj+Comp+Pl+Acc - skaistākas\n",
      "skaista+Adj+Comp+Pl+Loc - skaistākās\n",
      "skaista+Adj+Sup+Sg+Nom - skaistākā\n",
      "skaista+Adj+Sup+Sg+Gen - skaistākās\n",
      "skaista+Adj+Sup+Sg+Dat - skaistākajai\n",
      "skaista+Adj+Sup+Sg+Acc - skaistāko\n",
      "skaista+Adj+Sup+Sg+Loc - skaistākajā\n",
      "skaista+Adj+Sup+Pl+Nom - skaistākās\n",
      "skaista+Adj+Sup+Pl+Gen - skaistāko\n",
      "skaista+Adj+Sup+Pl+Dat - skaistākajām\n",
      "skaista+Adj+Sup+Pl+Acc - skaistākās\n",
      "skaista+Adj+Sup+Pl+Loc - skaistākajām\n"
     ]
    }
   ],
   "source": [
    "for adjective in [\"jauns\", \"zaļš\", \"skaista\"]:\n",
    "    for degree in [\"\", \"Comp\", \"Sup\"]:\n",
    "        for number in [\"Sg\", \"Pl\"]:\n",
    "            for form in [\"Nom\", \"Gen\", \"Dat\", \"Acc\", \"Loc\"]:\n",
    "                if degree == \"\":\n",
    "                    print(adjective + \"+Adj+\" + number + \"+\" + form + \" - \" + lexicon.lookup(adjective + \"+Adj+\" + number + \"+\" + form)[0][0])\n",
    "                else:\n",
    "                    print(adjective + \"+Adj+\" + degree + \"+\" + number + \"+\" + form + \" - \" + lexicon.lookup(adjective + \"+Adj+\" + degree + \"+\" + number + \"+\" + form)[0][0])"
   ]
  },
  {
   "cell_type": "markdown",
   "metadata": {},
   "source": [
    "### Verbs"
   ]
  },
  {
   "cell_type": "markdown",
   "metadata": {},
   "source": [
    "Verbs in Latvian have many different groups and a lot stem changes depending on tense, person and conjugation. Added only some 2nd and 3rd conjugation for first person singular and plural in past, present and future tense.\n",
    "\n",
    "For second conjugation it is necessary to insert J in some cases and in third conjustation both J or both J and Ī."
   ]
  },
  {
   "cell_type": "code",
   "execution_count": 31,
   "metadata": {},
   "outputs": [
    {
     "name": "stdout",
     "output_type": "stream",
     "text": [
      "vērot+V+Sg+Pa - vēroj^^u\n",
      "vērot+V+Sg+Pr - vēroj^^u\n",
      "vērot+V+Sg+Fu - vērošu\n",
      "vērot+V+Pl+Pa - vēroj^^ām\n",
      "vērot+V+Pl+Pr - vēroj^^am\n",
      "vērot+V+Pl+Fu - vērosim\n",
      "rakstīt+V+Sg+Pa - rakstīj^^u\n",
      "rakstīt+V+Sg+Pr - rakstu\n",
      "rakstīt+V+Sg+Fu - rakstī^šu\n",
      "rakstīt+V+Pl+Pa - rakstīj^^ām\n",
      "rakstīt+V+Pl+Pr - rakstām\n",
      "rakstīt+V+Pl+Fu - rakstī^sim\n",
      "lasīt+V+Sg+Pa - lasīj^^u\n",
      "lasīt+V+Sg+Pr - lasu\n",
      "lasīt+V+Sg+Fu - lasī^šu\n",
      "lasīt+V+Pl+Pa - lasīj^^ām\n",
      "lasīt+V+Pl+Pr - lasām\n",
      "lasīt+V+Pl+Fu - lasī^sim\n"
     ]
    }
   ],
   "source": [
    "InsertII = regex('[..] -> ī || _ Ī J \"^\"') # insertion\n",
    "CleanUpII = regex('Ī -> 0') # deletion\n",
    "InsertJ = regex('[..] -> \"j\" || _ J \"^\" \"^\"') # insertion\n",
    "CleanUpJ = regex('J -> 0') # deletion\n",
    "CleanUp = regex('%* -> 0') # deletion\n",
    "\n",
    "cascade = compose((lexicon, InsertII, InsertJ, CleanUpII, CleanUpJ, CleanUp))\n",
    "\n",
    "for verbs in [\"vērot\", \"rakstīt\", \"lasīt\"]:\n",
    "    for number in [\"Sg\", \"Pl\"]:\n",
    "        for tense in [\"Pa\", \"Pr\", \"Fu\"]:\n",
    "                print(verbs + \"+V+\" + number + \"+\" + tense + \" - \" + cascade.lookup(verbs + \"+V+\" + number + \"+\" + tense)[0][0])"
   ]
  }
 ],
 "metadata": {
  "kernelspec": {
   "display_name": "Python 3",
   "language": "python",
   "name": "python3"
  },
  "language_info": {
   "codemirror_mode": {
    "name": "ipython",
    "version": 3
   },
   "file_extension": ".py",
   "mimetype": "text/x-python",
   "name": "python",
   "nbconvert_exporter": "python",
   "pygments_lexer": "ipython3",
   "version": "3.8.10"
  }
 },
 "nbformat": 4,
 "nbformat_minor": 2
}
